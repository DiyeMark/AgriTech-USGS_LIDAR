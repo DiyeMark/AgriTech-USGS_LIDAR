{
 "cells": [
  {
   "cell_type": "code",
   "execution_count": 1,
   "outputs": [],
   "source": [
    "import os\n",
    "import sys\n",
    "from shapely.geometry import Polygon\n",
    "sys.path.append(os.path.abspath(os.path.join('../scripts')))"
   ],
   "metadata": {
    "collapsed": false,
    "pycharm": {
     "name": "#%%\n"
    }
   }
  },
  {
   "cell_type": "code",
   "execution_count": 2,
   "outputs": [],
   "source": [
    "from lidar import Lidar\n",
    "lidar = Lidar()"
   ],
   "metadata": {
    "collapsed": false,
    "pycharm": {
     "name": "#%%\n"
    }
   }
  },
  {
   "cell_type": "code",
   "execution_count": 3,
   "outputs": [
    {
     "data": {
      "text/plain": "<shapely.geometry.polygon.Polygon at 0x7f8f5c1c7430>",
      "image/svg+xml": "<svg xmlns=\"http://www.w3.org/2000/svg\" xmlns:xlink=\"http://www.w3.org/1999/xlink\" width=\"100.0\" height=\"100.0\" viewBox=\"-93.75650784000001 41.91766216 0.00952668000002177 0.00411968000000229\" preserveAspectRatio=\"xMinYMin meet\"><g transform=\"matrix(1,0,0,-1,0,83.839444)\"><path fill-rule=\"evenodd\" fill=\"#66cc99\" stroke=\"#555555\" stroke-width=\"0.0001905336000004354\" opacity=\"0.6\" d=\"M -93.756155,41.918015 L -93.756155,41.921429 L -93.747334,41.921429 L -93.747334,41.918015 L -93.756155,41.918015 z\" /></g></svg>"
     },
     "execution_count": 3,
     "metadata": {},
     "output_type": "execute_result"
    }
   ],
   "source": [
    "MINX, MINY, MAXX, MAXY = [-93.756155, 41.918015, -93.747334, 41.921429]\n",
    "polygon = Polygon(((MINX, MINY), (MINX, MAXY), (MAXX, MAXY), (MAXX, MINY), (MINX, MINY)))\n",
    "polygon"
   ],
   "metadata": {
    "collapsed": false,
    "pycharm": {
     "name": "#%%\n"
    }
   }
  },
  {
   "cell_type": "code",
   "execution_count": 4,
   "outputs": [
    {
     "name": "stdout",
     "output_type": "stream",
     "text": [
      "bound, polygon_str\n",
      "<model.bounds.Bounds object at 0x7f8f5c15fe50> POLYGON((-10436887.43333523 5148706.389047223, -10436887.43333523 5149217.145836505, -10435905.484106943 5149217.145836505, -10435905.484106943 5148706.389047223, -10436887.43333523 5148706.389047223))\n",
      "successfully read geodata: IA_FullState_-10436887.43333523_-10435905.484106943_5148706.389047223_5149217.145836505\n"
     ]
    },
    {
     "data": {
      "text/plain": "[{'year': nan,\n  'region': 'IA_FullState',\n  'geo_data':         elevation                        geometry\n  0          316.96  POINT (438027.469 4641151.479)\n  1          317.04  POINT (438026.782 4641151.263)\n  2          317.12  POINT (438028.301 4641149.468)\n  3          317.10  POINT (438026.283 4641149.560)\n  4          317.12  POINT (438025.257 4641149.829)\n  ...           ...                             ...\n  213993     315.87  POINT (437962.359 4641020.708)\n  213994     315.87  POINT (437944.056 4641020.059)\n  213995     315.96  POINT (437945.869 4641020.369)\n  213996     315.88  POINT (437935.882 4641020.716)\n  213997     316.02  POINT (437937.703 4641021.042)\n  \n  [213998 rows x 2 columns]}]"
     },
     "execution_count": 4,
     "metadata": {},
     "output_type": "execute_result"
    }
   ],
   "source": [
    "geo_df = lidar.fetch_lidar(polygon, [\"IA_FullState\"])\n",
    "geo_df"
   ],
   "metadata": {
    "collapsed": false,
    "pycharm": {
     "name": "#%%\n"
    }
   }
  },
  {
   "cell_type": "code",
   "execution_count": 4,
   "outputs": [],
   "source": [],
   "metadata": {
    "collapsed": false,
    "pycharm": {
     "name": "#%%\n"
    }
   }
  }
 ],
 "metadata": {
  "kernelspec": {
   "display_name": "Python 3",
   "language": "python",
   "name": "python3"
  },
  "language_info": {
   "codemirror_mode": {
    "name": "ipython",
    "version": 2
   },
   "file_extension": ".py",
   "mimetype": "text/x-python",
   "name": "python",
   "nbconvert_exporter": "python",
   "pygments_lexer": "ipython2",
   "version": "2.7.6"
  }
 },
 "nbformat": 4,
 "nbformat_minor": 0
}